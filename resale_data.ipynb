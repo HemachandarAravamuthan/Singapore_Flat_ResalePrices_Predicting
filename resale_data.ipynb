{
 "cells": [
  {
   "cell_type": "markdown",
   "id": "11ed4d8f-30cc-48b5-8b45-11633020686a",
   "metadata": {},
   "source": [
    "### OBJECTIVE"
   ]
  },
  {
   "cell_type": "markdown",
   "id": "ba6d468a-2218-48a3-a7b4-49635b5725b2",
   "metadata": {},
   "source": [
    "The objective of this project is to develop a machinelearning model and deploy it as a user-friendly web application that predicts the resale prices of flats in Singapore. This predictive model will be based on historical data of resale flat transactions, and it aims to assist both potential buyers and sellers in estimating the resalevalue of a flat."
   ]
  },
  {
   "cell_type": "markdown",
   "id": "7a068667-5529-4d2f-ade3-56ae8cf71db9",
   "metadata": {},
   "source": [
    "# Cleaning the data and training the model"
   ]
  },
  {
   "cell_type": "markdown",
   "id": "020f8294-cb0f-4831-b822-965c86af79c3",
   "metadata": {},
   "source": [
    "### Getting started"
   ]
  },
  {
   "cell_type": "code",
   "execution_count": 73,
   "id": "851558ad-b142-448c-aa26-26ad82d49924",
   "metadata": {},
   "outputs": [],
   "source": [
    "# Importing the requried libraries\n",
    "import pandas as pd\n",
    "import numpy as np\n",
    "import seaborn as sns\n",
    "import matplotlib.pyplot as plt\n",
    "from sklearn import preprocessing"
   ]
  },
  {
   "cell_type": "markdown",
   "id": "5d83fc6f-990f-4e98-bbfa-2b47b4e52a1a",
   "metadata": {},
   "source": [
    "### Reading data"
   ]
  },
  {
   "cell_type": "code",
   "execution_count": 74,
   "id": "d6a1d8d3-4ac3-40f7-9421-579fdc90cf07",
   "metadata": {},
   "outputs": [],
   "source": [
    "# Reading the csv data as dataframes\n",
    "df1=pd.read_csv(r'C:\\Users\\hp\\Downloads\\ResaleFlatPricesBasedonApprovalDate19901999.csv')\n",
    "df2=pd.read_csv(r'C:\\Users\\hp\\Downloads\\ResaleFlatPricesBasedonApprovalDate2000Feb2012.csv')\n",
    "df3=pd.read_csv(r'C:\\Users\\hp\\Downloads\\ResaleFlatPricesBasedonRegistrationDateFromMar2012toDec2014.csv')\n",
    "df4=pd.read_csv(r'C:\\Users\\hp\\Downloads\\ResaleFlatPricesBasedonRegistrationDateFromJan2015toDec2016.csv')\n",
    "df5=pd.read_csv(r'C:\\Users\\hp\\Downloads\\ResaleflatpricesbasedonregistrationdatefromJan2017onwards.csv')"
   ]
  },
  {
   "cell_type": "code",
   "execution_count": 75,
   "id": "5133cedc-9d0c-4d33-8abf-cca5cffb10d5",
   "metadata": {},
   "outputs": [
    {
     "name": "stdout",
     "output_type": "stream",
     "text": [
      "(287196, 10)\n",
      "(369651, 10)\n",
      "(52203, 10)\n",
      "(37153, 11)\n",
      "(167869, 11)\n"
     ]
    }
   ],
   "source": [
    "# Shape of each dataframes\n",
    "dfs=[df1,df2,df3,df4,df5]\n",
    "for i in dfs:\n",
    "    print(i.shape)"
   ]
  },
  {
   "cell_type": "code",
   "execution_count": 76,
   "id": "b1e972c1-42dd-4548-9806-487bcd46fe7d",
   "metadata": {},
   "outputs": [],
   "source": [
    "# Concating all dataframes to a single dataframe\n",
    "df=pd.concat([df1,df2,df3,df4,df5],ignore_index=True)"
   ]
  },
  {
   "cell_type": "markdown",
   "id": "f9933d73-99a8-4e47-827d-66154417d23b",
   "metadata": {},
   "source": [
    "### Understanding the data and cleaning"
   ]
  },
  {
   "cell_type": "code",
   "execution_count": 77,
   "id": "f8cdf312-4111-4ac7-a118-efbe38c13ef6",
   "metadata": {},
   "outputs": [
    {
     "data": {
      "text/html": [
       "<div>\n",
       "<style scoped>\n",
       "    .dataframe tbody tr th:only-of-type {\n",
       "        vertical-align: middle;\n",
       "    }\n",
       "\n",
       "    .dataframe tbody tr th {\n",
       "        vertical-align: top;\n",
       "    }\n",
       "\n",
       "    .dataframe thead th {\n",
       "        text-align: right;\n",
       "    }\n",
       "</style>\n",
       "<table border=\"1\" class=\"dataframe\">\n",
       "  <thead>\n",
       "    <tr style=\"text-align: right;\">\n",
       "      <th></th>\n",
       "      <th>month</th>\n",
       "      <th>town</th>\n",
       "      <th>flat_type</th>\n",
       "      <th>block</th>\n",
       "      <th>street_name</th>\n",
       "      <th>storey_range</th>\n",
       "      <th>floor_area_sqm</th>\n",
       "      <th>flat_model</th>\n",
       "      <th>lease_commence_date</th>\n",
       "      <th>resale_price</th>\n",
       "      <th>remaining_lease</th>\n",
       "    </tr>\n",
       "  </thead>\n",
       "  <tbody>\n",
       "    <tr>\n",
       "      <th>0</th>\n",
       "      <td>1990-01</td>\n",
       "      <td>ANG MO KIO</td>\n",
       "      <td>1 ROOM</td>\n",
       "      <td>309</td>\n",
       "      <td>ANG MO KIO AVE 1</td>\n",
       "      <td>10 TO 12</td>\n",
       "      <td>31.0</td>\n",
       "      <td>IMPROVED</td>\n",
       "      <td>1977</td>\n",
       "      <td>9000.0</td>\n",
       "      <td>NaN</td>\n",
       "    </tr>\n",
       "    <tr>\n",
       "      <th>1</th>\n",
       "      <td>1990-01</td>\n",
       "      <td>ANG MO KIO</td>\n",
       "      <td>1 ROOM</td>\n",
       "      <td>309</td>\n",
       "      <td>ANG MO KIO AVE 1</td>\n",
       "      <td>04 TO 06</td>\n",
       "      <td>31.0</td>\n",
       "      <td>IMPROVED</td>\n",
       "      <td>1977</td>\n",
       "      <td>6000.0</td>\n",
       "      <td>NaN</td>\n",
       "    </tr>\n",
       "    <tr>\n",
       "      <th>2</th>\n",
       "      <td>1990-01</td>\n",
       "      <td>ANG MO KIO</td>\n",
       "      <td>1 ROOM</td>\n",
       "      <td>309</td>\n",
       "      <td>ANG MO KIO AVE 1</td>\n",
       "      <td>10 TO 12</td>\n",
       "      <td>31.0</td>\n",
       "      <td>IMPROVED</td>\n",
       "      <td>1977</td>\n",
       "      <td>8000.0</td>\n",
       "      <td>NaN</td>\n",
       "    </tr>\n",
       "    <tr>\n",
       "      <th>3</th>\n",
       "      <td>1990-01</td>\n",
       "      <td>ANG MO KIO</td>\n",
       "      <td>1 ROOM</td>\n",
       "      <td>309</td>\n",
       "      <td>ANG MO KIO AVE 1</td>\n",
       "      <td>07 TO 09</td>\n",
       "      <td>31.0</td>\n",
       "      <td>IMPROVED</td>\n",
       "      <td>1977</td>\n",
       "      <td>6000.0</td>\n",
       "      <td>NaN</td>\n",
       "    </tr>\n",
       "    <tr>\n",
       "      <th>4</th>\n",
       "      <td>1990-01</td>\n",
       "      <td>ANG MO KIO</td>\n",
       "      <td>3 ROOM</td>\n",
       "      <td>216</td>\n",
       "      <td>ANG MO KIO AVE 1</td>\n",
       "      <td>04 TO 06</td>\n",
       "      <td>73.0</td>\n",
       "      <td>NEW GENERATION</td>\n",
       "      <td>1976</td>\n",
       "      <td>47200.0</td>\n",
       "      <td>NaN</td>\n",
       "    </tr>\n",
       "  </tbody>\n",
       "</table>\n",
       "</div>"
      ],
      "text/plain": [
       "     month        town flat_type block       street_name storey_range  \\\n",
       "0  1990-01  ANG MO KIO    1 ROOM   309  ANG MO KIO AVE 1     10 TO 12   \n",
       "1  1990-01  ANG MO KIO    1 ROOM   309  ANG MO KIO AVE 1     04 TO 06   \n",
       "2  1990-01  ANG MO KIO    1 ROOM   309  ANG MO KIO AVE 1     10 TO 12   \n",
       "3  1990-01  ANG MO KIO    1 ROOM   309  ANG MO KIO AVE 1     07 TO 09   \n",
       "4  1990-01  ANG MO KIO    3 ROOM   216  ANG MO KIO AVE 1     04 TO 06   \n",
       "\n",
       "   floor_area_sqm      flat_model  lease_commence_date  resale_price  \\\n",
       "0            31.0        IMPROVED                 1977        9000.0   \n",
       "1            31.0        IMPROVED                 1977        6000.0   \n",
       "2            31.0        IMPROVED                 1977        8000.0   \n",
       "3            31.0        IMPROVED                 1977        6000.0   \n",
       "4            73.0  NEW GENERATION                 1976       47200.0   \n",
       "\n",
       "  remaining_lease  \n",
       "0             NaN  \n",
       "1             NaN  \n",
       "2             NaN  \n",
       "3             NaN  \n",
       "4             NaN  "
      ]
     },
     "execution_count": 77,
     "metadata": {},
     "output_type": "execute_result"
    }
   ],
   "source": [
    "# Displaying the data\n",
    "df.head()"
   ]
  },
  {
   "cell_type": "code",
   "execution_count": 78,
   "id": "8aebeba1-abc6-4ecd-804d-51ceab899db5",
   "metadata": {},
   "outputs": [
    {
     "data": {
      "text/html": [
       "<div>\n",
       "<style scoped>\n",
       "    .dataframe tbody tr th:only-of-type {\n",
       "        vertical-align: middle;\n",
       "    }\n",
       "\n",
       "    .dataframe tbody tr th {\n",
       "        vertical-align: top;\n",
       "    }\n",
       "\n",
       "    .dataframe thead th {\n",
       "        text-align: right;\n",
       "    }\n",
       "</style>\n",
       "<table border=\"1\" class=\"dataframe\">\n",
       "  <thead>\n",
       "    <tr style=\"text-align: right;\">\n",
       "      <th></th>\n",
       "      <th>month</th>\n",
       "      <th>town</th>\n",
       "      <th>flat_type</th>\n",
       "      <th>block</th>\n",
       "      <th>street_name</th>\n",
       "      <th>storey_range</th>\n",
       "      <th>floor_area_sqm</th>\n",
       "      <th>flat_model</th>\n",
       "      <th>lease_commence_date</th>\n",
       "      <th>resale_price</th>\n",
       "      <th>remaining_lease</th>\n",
       "    </tr>\n",
       "  </thead>\n",
       "  <tbody>\n",
       "    <tr>\n",
       "      <th>914067</th>\n",
       "      <td>2023-12</td>\n",
       "      <td>YISHUN</td>\n",
       "      <td>5 ROOM</td>\n",
       "      <td>334C</td>\n",
       "      <td>YISHUN ST 31</td>\n",
       "      <td>13 TO 15</td>\n",
       "      <td>112.0</td>\n",
       "      <td>Improved</td>\n",
       "      <td>2015</td>\n",
       "      <td>650000.0</td>\n",
       "      <td>91 years 01 month</td>\n",
       "    </tr>\n",
       "    <tr>\n",
       "      <th>914068</th>\n",
       "      <td>2023-12</td>\n",
       "      <td>YISHUN</td>\n",
       "      <td>EXECUTIVE</td>\n",
       "      <td>328</td>\n",
       "      <td>YISHUN RING RD</td>\n",
       "      <td>07 TO 09</td>\n",
       "      <td>142.0</td>\n",
       "      <td>Apartment</td>\n",
       "      <td>1988</td>\n",
       "      <td>798000.0</td>\n",
       "      <td>63 years 07 months</td>\n",
       "    </tr>\n",
       "    <tr>\n",
       "      <th>914069</th>\n",
       "      <td>2023-12</td>\n",
       "      <td>YISHUN</td>\n",
       "      <td>EXECUTIVE</td>\n",
       "      <td>606</td>\n",
       "      <td>YISHUN ST 61</td>\n",
       "      <td>07 TO 09</td>\n",
       "      <td>142.0</td>\n",
       "      <td>Apartment</td>\n",
       "      <td>1987</td>\n",
       "      <td>788888.0</td>\n",
       "      <td>63 years 01 month</td>\n",
       "    </tr>\n",
       "    <tr>\n",
       "      <th>914070</th>\n",
       "      <td>2023-12</td>\n",
       "      <td>YISHUN</td>\n",
       "      <td>EXECUTIVE</td>\n",
       "      <td>643</td>\n",
       "      <td>YISHUN ST 61</td>\n",
       "      <td>10 TO 12</td>\n",
       "      <td>146.0</td>\n",
       "      <td>Maisonette</td>\n",
       "      <td>1987</td>\n",
       "      <td>838000.0</td>\n",
       "      <td>62 years 10 months</td>\n",
       "    </tr>\n",
       "    <tr>\n",
       "      <th>914071</th>\n",
       "      <td>2023-12</td>\n",
       "      <td>YISHUN</td>\n",
       "      <td>EXECUTIVE</td>\n",
       "      <td>826</td>\n",
       "      <td>YISHUN ST 81</td>\n",
       "      <td>01 TO 03</td>\n",
       "      <td>142.0</td>\n",
       "      <td>Apartment</td>\n",
       "      <td>1988</td>\n",
       "      <td>780000.0</td>\n",
       "      <td>63 years 02 months</td>\n",
       "    </tr>\n",
       "  </tbody>\n",
       "</table>\n",
       "</div>"
      ],
      "text/plain": [
       "          month    town  flat_type block     street_name storey_range  \\\n",
       "914067  2023-12  YISHUN     5 ROOM  334C    YISHUN ST 31     13 TO 15   \n",
       "914068  2023-12  YISHUN  EXECUTIVE   328  YISHUN RING RD     07 TO 09   \n",
       "914069  2023-12  YISHUN  EXECUTIVE   606    YISHUN ST 61     07 TO 09   \n",
       "914070  2023-12  YISHUN  EXECUTIVE   643    YISHUN ST 61     10 TO 12   \n",
       "914071  2023-12  YISHUN  EXECUTIVE   826    YISHUN ST 81     01 TO 03   \n",
       "\n",
       "        floor_area_sqm  flat_model  lease_commence_date  resale_price  \\\n",
       "914067           112.0    Improved                 2015      650000.0   \n",
       "914068           142.0   Apartment                 1988      798000.0   \n",
       "914069           142.0   Apartment                 1987      788888.0   \n",
       "914070           146.0  Maisonette                 1987      838000.0   \n",
       "914071           142.0   Apartment                 1988      780000.0   \n",
       "\n",
       "           remaining_lease  \n",
       "914067   91 years 01 month  \n",
       "914068  63 years 07 months  \n",
       "914069   63 years 01 month  \n",
       "914070  62 years 10 months  \n",
       "914071  63 years 02 months  "
      ]
     },
     "execution_count": 78,
     "metadata": {},
     "output_type": "execute_result"
    }
   ],
   "source": [
    "df.tail()"
   ]
  },
  {
   "cell_type": "code",
   "execution_count": 79,
   "id": "fd8d4422-da96-4cf3-a8f4-43289343f6af",
   "metadata": {},
   "outputs": [
    {
     "data": {
      "text/plain": [
       "(914072, 11)"
      ]
     },
     "execution_count": 79,
     "metadata": {},
     "output_type": "execute_result"
    }
   ],
   "source": [
    "# Shape of the data\n",
    "df.shape"
   ]
  },
  {
   "cell_type": "code",
   "execution_count": 80,
   "id": "4f19ae71-ad40-4f4a-8355-220b52e5ef7e",
   "metadata": {},
   "outputs": [
    {
     "name": "stdout",
     "output_type": "stream",
     "text": [
      "<class 'pandas.core.frame.DataFrame'>\n",
      "RangeIndex: 914072 entries, 0 to 914071\n",
      "Data columns (total 11 columns):\n",
      " #   Column               Non-Null Count   Dtype  \n",
      "---  ------               --------------   -----  \n",
      " 0   month                914072 non-null  object \n",
      " 1   town                 914072 non-null  object \n",
      " 2   flat_type            914072 non-null  object \n",
      " 3   block                914072 non-null  object \n",
      " 4   street_name          914072 non-null  object \n",
      " 5   storey_range         914072 non-null  object \n",
      " 6   floor_area_sqm       914072 non-null  float64\n",
      " 7   flat_model           914072 non-null  object \n",
      " 8   lease_commence_date  914072 non-null  int64  \n",
      " 9   resale_price         914072 non-null  float64\n",
      " 10  remaining_lease      205022 non-null  object \n",
      "dtypes: float64(2), int64(1), object(8)\n",
      "memory usage: 76.7+ MB\n"
     ]
    }
   ],
   "source": [
    "# Information about the data\n",
    "df.info()"
   ]
  },
  {
   "cell_type": "code",
   "execution_count": 81,
   "id": "59d71e58-9e53-4bdf-9828-70f947b203cf",
   "metadata": {},
   "outputs": [
    {
     "name": "stdout",
     "output_type": "stream",
     "text": [
      "month :  408 labels\n",
      "town :  27 labels\n",
      "flat_type :  8 labels\n",
      "block :  2696 labels\n",
      "street_name :  584 labels\n",
      "storey_range :  25 labels\n",
      "floor_area_sqm :  210 labels\n",
      "flat_model :  34 labels\n",
      "lease_commence_date :  56 labels\n",
      "resale_price :  9340 labels\n",
      "remaining_lease :  719 labels\n"
     ]
    }
   ],
   "source": [
    "# Unique values in each column\n",
    "for col in df.columns[0:]:\n",
    "    print(col, ': ', (df[col].nunique()), 'labels')"
   ]
  },
  {
   "cell_type": "code",
   "execution_count": 82,
   "id": "9649075c-6675-4cad-973b-56afc8846ff6",
   "metadata": {},
   "outputs": [
    {
     "data": {
      "text/plain": [
       "month                       0\n",
       "town                        0\n",
       "flat_type                   0\n",
       "block                       0\n",
       "street_name                 0\n",
       "storey_range                0\n",
       "floor_area_sqm              0\n",
       "flat_model                  0\n",
       "lease_commence_date         0\n",
       "resale_price                0\n",
       "remaining_lease        709050\n",
       "dtype: int64"
      ]
     },
     "execution_count": 82,
     "metadata": {},
     "output_type": "execute_result"
    }
   ],
   "source": [
    "# Null values\n",
    "df.isna().sum()"
   ]
  },
  {
   "cell_type": "markdown",
   "id": "c40f9ad3-58ad-474e-b0bf-8b9dc9af5866",
   "metadata": {},
   "source": [
    "Droping the 'remaining_lease' column as majority of the rows lacks this value(data is available only from 2015)"
   ]
  },
  {
   "cell_type": "code",
   "execution_count": 83,
   "id": "057526b1-efc3-4430-9332-b66903027555",
   "metadata": {},
   "outputs": [],
   "source": [
    "# Droping the column as mojority of the data is null\n",
    "df = df.drop(columns='remaining_lease')"
   ]
  },
  {
   "cell_type": "code",
   "execution_count": 84,
   "id": "0c5181f7-1e8f-446d-bcdd-a4ce95bd0790",
   "metadata": {},
   "outputs": [
    {
     "data": {
      "text/plain": [
       "month                  0\n",
       "town                   0\n",
       "flat_type              0\n",
       "block                  0\n",
       "street_name            0\n",
       "storey_range           0\n",
       "floor_area_sqm         0\n",
       "flat_model             0\n",
       "lease_commence_date    0\n",
       "resale_price           0\n",
       "dtype: int64"
      ]
     },
     "execution_count": 84,
     "metadata": {},
     "output_type": "execute_result"
    }
   ],
   "source": [
    "# After droping the column\n",
    "df.isna().sum()"
   ]
  },
  {
   "cell_type": "code",
   "execution_count": 85,
   "id": "0d5971b7-52f0-4c79-a31e-81b2b6cf15be",
   "metadata": {},
   "outputs": [
    {
     "name": "stderr",
     "output_type": "stream",
     "text": [
      "C:\\Program Files\\KMSpico\\temp\\ipykernel_36536\\3192126979.py:2: UserWarning: \n",
      "\n",
      "`distplot` is a deprecated function and will be removed in seaborn v0.14.0.\n",
      "\n",
      "Please adapt your code to use either `displot` (a figure-level function with\n",
      "similar flexibility) or `histplot` (an axes-level function for histograms).\n",
      "\n",
      "For a guide to updating your code to use the new functions, please see\n",
      "https://gist.github.com/mwaskom/de44147ed2974457ad6372750bbe5751\n",
      "\n",
      "  sns.distplot(df['resale_price'], bins = 20)\n"
     ]
    },
    {
     "data": {
      "image/png": "[encoded data removed]",
      "text/plain": [
       "<Figure size 640x480 with 1 Axes>"
      ]
     },
     "metadata": {},
     "output_type": "display_data"
    }
   ],
   "source": [
    "# Visualize the distribution of the resale price column\n",
    "sns.distplot(df['resale_price'], bins = 20)\n",
    "plt.title('Distribution of resale price')\n",
    "plt.show()"
   ]
  },
  {
   "cell_type": "markdown",
   "id": "197cc49b-167b-4fee-935e-e57fc966cd73",
   "metadata": {},
   "source": [
    "### Dealing with Features"
   ]
  },
  {
   "cell_type": "markdown",
   "id": "c605e272-a406-427d-9ab6-39ee1095598d",
   "metadata": {},
   "source": [
    "#### flat_type column\n",
    "Collapsing flat type categories"
   ]
  },
  {
   "cell_type": "code",
   "execution_count": 86,
   "id": "25de4b00-ce4a-42c7-b9da-cce09ceb2291",
   "metadata": {},
   "outputs": [
    {
     "data": {
      "text/plain": [
       "flat_type\n",
       "4 ROOM              346729\n",
       "3 ROOM              292761\n",
       "5 ROOM              192444\n",
       "EXECUTIVE            68851\n",
       "2 ROOM               11449\n",
       "1 ROOM                1300\n",
       "MULTI GENERATION       279\n",
       "MULTI-GENERATION       259\n",
       "Name: count, dtype: int64"
      ]
     },
     "execution_count": 86,
     "metadata": {},
     "output_type": "execute_result"
    }
   ],
   "source": [
    "df['flat_type'].value_counts()"
   ]
  },
  {
   "cell_type": "code",
   "execution_count": 87,
   "id": "2c5d7176-76ba-421b-93c2-802ece9a63a7",
   "metadata": {},
   "outputs": [
    {
     "data": {
      "text/plain": [
       "array(['1 ROOM', '3 ROOM', '4 ROOM', '5 ROOM', '2 ROOM', 'EXECUTIVE',\n",
       "       'MULTI GENERATION', 'MULTI-GENERATION'], dtype=object)"
      ]
     },
     "execution_count": 87,
     "metadata": {},
     "output_type": "execute_result"
    }
   ],
   "source": [
    "# Unique lables in flat_type column\n",
    "df['flat_type'].unique()"
   ]
  },
  {
   "cell_type": "code",
   "execution_count": 88,
   "id": "29fa074c-3a76-44ee-993a-850a51243b83",
   "metadata": {},
   "outputs": [
    {
     "data": {
      "text/plain": [
       "array(['1 ROOM', '3 ROOM', '4 ROOM', '5 ROOM', '2 ROOM', 'EXECUTIVE',\n",
       "       'MULTI GENERATION'], dtype=object)"
      ]
     },
     "execution_count": 88,
     "metadata": {},
     "output_type": "execute_result"
    }
   ],
   "source": [
    "# Collapsing the flat_type categories\n",
    "mapping={'MULTI-GENERATION':'MULTI GENERATION'}\n",
    "\n",
    "df['flat_type'] = df['flat_type'].replace(mapping)\n",
    "df['flat_type'].unique()"
   ]
  },
  {
   "cell_type": "code",
   "execution_count": 89,
   "id": "357a6790-eefe-4a93-9291-fb07ba7f9e7e",
   "metadata": {},
   "outputs": [
    {
     "data": {
      "image/png": "[encoded data removed]",
      "text/plain": [
       "<Figure size 640x480 with 1 Axes>"
      ]
     },
     "metadata": {},
     "output_type": "display_data"
    }
   ],
   "source": [
    "# Visualize relationship between price and flat_type\n",
    "sns.boxplot(x = df['flat_type'], y = df['resale_price'])\n",
    "plt.xlabel('Flat Type')\n",
    "plt.ylabel('Price')\n",
    "plt.show()"
   ]
  },
  {
   "cell_type": "markdown",
   "id": "c432205c-3142-4429-87f2-782f5536650f",
   "metadata": {},
   "source": [
    "Encoding the flat type categories"
   ]
  },
  {
   "cell_type": "code",
   "execution_count": 90,
   "id": "a69c0840-fae6-4668-be4b-9dd682ff4116",
   "metadata": {},
   "outputs": [
    {
     "data": {
      "text/plain": [
       "flat_type\n",
       "4    346729\n",
       "3    292761\n",
       "5    192444\n",
       "6     68851\n",
       "2     11449\n",
       "1      1300\n",
       "7       538\n",
       "Name: count, dtype: int64"
      ]
     },
     "execution_count": 90,
     "metadata": {},
     "output_type": "execute_result"
    }
   ],
   "source": [
    "# Assigning the value-pairs to be replaced\n",
    "cat = {'1 ROOM': 1,\n",
    "       '2 ROOM':2,\n",
    "       '3 ROOM':3,\n",
    "       '4 ROOM':4,\n",
    "       '5 ROOM':5,\n",
    "       'EXECUTIVE':6,\n",
    "       'MULTI GENERATION':7}\n",
    "\n",
    "# Replacing the values in df\n",
    "df['flat_type'] = df['flat_type'].replace(cat)\n",
    "df['flat_type'].value_counts()"
   ]
  },
  {
   "cell_type": "markdown",
   "id": "d5cd463f-9c36-47fc-aa96-9abcee5578f2",
   "metadata": {},
   "source": [
    "Dealing with collapsed flat model categories"
   ]
  },
  {
   "cell_type": "markdown",
   "id": "b5d9444c-a233-49ef-9903-0778a110074f",
   "metadata": {},
   "source": [
    "#### flat_model column"
   ]
  },
  {
   "cell_type": "code",
   "execution_count": 91,
   "id": "d2843d3f-3f45-4b74-b644-428fa5f735df",
   "metadata": {},
   "outputs": [
    {
     "name": "stdout",
     "output_type": "stream",
     "text": [
      "34\n"
     ]
    },
    {
     "data": {
      "text/plain": [
       "array(['IMPROVED', 'NEW GENERATION', 'MODEL A', 'STANDARD', 'SIMPLIFIED',\n",
       "       'MODEL A-MAISONETTE', 'APARTMENT', 'MAISONETTE', 'TERRACE',\n",
       "       '2-ROOM', 'IMPROVED-MAISONETTE', 'MULTI GENERATION',\n",
       "       'PREMIUM APARTMENT', 'Improved', 'New Generation', 'Model A',\n",
       "       'Standard', 'Apartment', 'Simplified', 'Model A-Maisonette',\n",
       "       'Maisonette', 'Multi Generation', 'Adjoined flat',\n",
       "       'Premium Apartment', 'Terrace', 'Improved-Maisonette',\n",
       "       'Premium Maisonette', '2-room', 'Model A2', 'DBSS', 'Type S1',\n",
       "       'Type S2', 'Premium Apartment Loft', '3Gen'], dtype=object)"
      ]
     },
     "execution_count": 91,
     "metadata": {},
     "output_type": "execute_result"
    }
   ],
   "source": [
    "# Flat_model column\n",
    "print(df['flat_model'].nunique())\n",
    "df['flat_model'].unique()"
   ]
  },
  {
   "cell_type": "code",
   "execution_count": 92,
   "id": "3f12cd04-e33c-41ad-a06a-5bcf8ff4b06d",
   "metadata": {},
   "outputs": [],
   "source": [
    "# Deal with capitalized value\n",
    "df['flat_model'] = df['flat_model'].str.lower()"
   ]
  },
  {
   "cell_type": "code",
   "execution_count": 93,
   "id": "0a4facbd-1bac-4478-bfe1-48c6b2dfda9f",
   "metadata": {},
   "outputs": [
    {
     "data": {
      "text/plain": [
       "21"
      ]
     },
     "execution_count": 93,
     "metadata": {},
     "output_type": "execute_result"
    }
   ],
   "source": [
    "# Number of unique lables in flat model after dealing with capitalized values\n",
    "df['flat_model'].nunique()"
   ]
  },
  {
   "cell_type": "code",
   "execution_count": 94,
   "id": "b51aa16d-9d0d-4d67-bc95-88f229d9b256",
   "metadata": {},
   "outputs": [
    {
     "data": {
      "text/plain": [
       "flat_model\n",
       "model a                   259893\n",
       "improved                  238739\n",
       "new generation            187436\n",
       "simplified                 57093\n",
       "premium apartment          45491\n",
       "standard                   42253\n",
       "apartment                  35078\n",
       "maisonette                 29335\n",
       "model a2                    9992\n",
       "dbss                        3171\n",
       "model a-maisonette          2055\n",
       "adjoined flat               1231\n",
       "terrace                      688\n",
       "multi generation             538\n",
       "type s1                      429\n",
       "type s2                      211\n",
       "improved-maisonette          125\n",
       "2-room                       104\n",
       "premium apartment loft       103\n",
       "premium maisonette            86\n",
       "3gen                          21\n",
       "Name: count, dtype: int64"
      ]
     },
     "execution_count": 94,
     "metadata": {},
     "output_type": "execute_result"
    }
   ],
   "source": [
    "# Altered flat_model column\n",
    "df['flat_model'].value_counts()"
   ]
  },
  {
   "cell_type": "code",
   "execution_count": 95,
   "id": "693e8c15-a1c7-4795-92ac-2e715f5b985c",
   "metadata": {},
   "outputs": [],
   "source": [
    "# Encoding flat_model column\n",
    "le = preprocessing.LabelEncoder()\n",
    "\n",
    "flat_modelcode= le.fit_transform(df['flat_model'])\n",
    "df.insert(loc = 8,\n",
    "          column = 'flat_modelcode',\n",
    "          value = flat_modelcode)"
   ]
  },
  {
   "cell_type": "code",
   "execution_count": 96,
   "id": "551ac998-2a4c-421f-9ad3-eafcd733c2ca",
   "metadata": {},
   "outputs": [
    {
     "data": {
      "text/plain": [
       "flat_modelcode\n",
       "8     259893\n",
       "5     238739\n",
       "12    187436\n",
       "16     57093\n",
       "13     45491\n",
       "17     42253\n",
       "3      35078\n",
       "7      29335\n",
       "10      9992\n",
       "4       3171\n",
       "9       2055\n",
       "2       1231\n",
       "18       688\n",
       "11       538\n",
       "19       429\n",
       "20       211\n",
       "6        125\n",
       "0        104\n",
       "14       103\n",
       "15        86\n",
       "1         21\n",
       "Name: count, dtype: int64"
      ]
     },
     "execution_count": 96,
     "metadata": {},
     "output_type": "execute_result"
    }
   ],
   "source": [
    "df['flat_modelcode'].value_counts()"
   ]
  },
  {
   "cell_type": "markdown",
   "id": "ac8742c5-2c15-4252-9673-b383c1ad64da",
   "metadata": {},
   "source": [
    "#### Other features preparation"
   ]
  },
  {
   "cell_type": "code",
   "execution_count": 97,
   "id": "96faab74-bab8-4bcd-81e8-97f5d58a08d7",
   "metadata": {},
   "outputs": [
    {
     "data": {
      "text/plain": [
       "27"
      ]
     },
     "execution_count": 97,
     "metadata": {},
     "output_type": "execute_result"
    }
   ],
   "source": [
    "# Town column \n",
    "df['town'].nunique()"
   ]
  },
  {
   "cell_type": "code",
   "execution_count": 98,
   "id": "865f2fb8-3bc7-4d73-8765-ccf65b67fab1",
   "metadata": {},
   "outputs": [
    {
     "data": {
      "text/plain": [
       "town\n",
       "TAMPINES           79056\n",
       "YISHUN             69169\n",
       "BEDOK              66007\n",
       "JURONG WEST        65733\n",
       "WOODLANDS          64586\n",
       "ANG MO KIO         51597\n",
       "HOUGANG            49989\n",
       "BUKIT BATOK        43604\n",
       "CHOA CHU KANG      37728\n",
       "BUKIT MERAH        33866\n",
       "PASIR RIS          32903\n",
       "SENGKANG           31528\n",
       "TOA PAYOH          31176\n",
       "QUEENSTOWN         28460\n",
       "GEYLANG            27910\n",
       "CLEMENTI           27775\n",
       "BUKIT PANJANG      27297\n",
       "KALLANG/WHAMPOA    26798\n",
       "JURONG EAST        24502\n",
       "SERANGOON          22610\n",
       "BISHAN             21098\n",
       "PUNGGOL            19713\n",
       "SEMBAWANG          13374\n",
       "MARINE PARADE       7978\n",
       "CENTRAL AREA        7065\n",
       "BUKIT TIMAH         2486\n",
       "LIM CHU KANG          64\n",
       "Name: count, dtype: int64"
      ]
     },
     "execution_count": 98,
     "metadata": {},
     "output_type": "execute_result"
    }
   ],
   "source": [
    "df['town'].value_counts()"
   ]
  },
  {
   "cell_type": "code",
   "execution_count": 99,
   "id": "1d22f8ae-3c0a-44e1-bab6-e60463608daf",
   "metadata": {},
   "outputs": [],
   "source": [
    "# Creating a column with encoded value\n",
    "town_code = le.fit_transform(df['town'])\n",
    "df.insert(loc = 2,\n",
    "          column = 'town_code',\n",
    "          value = town_code)"
   ]
  },
  {
   "cell_type": "code",
   "execution_count": 100,
   "id": "fd2ab232-7c2a-4e69-93f9-9c6c84a25c8d",
   "metadata": {},
   "outputs": [
    {
     "data": {
      "text/plain": [
       "town_code\n",
       "23    79056\n",
       "26    69169\n",
       "1     66007\n",
       "13    65733\n",
       "25    64586\n",
       "0     51597\n",
       "11    49989\n",
       "3     43604\n",
       "8     37728\n",
       "4     33866\n",
       "17    32903\n",
       "21    31528\n",
       "24    31176\n",
       "19    28460\n",
       "10    27910\n",
       "9     27775\n",
       "5     27297\n",
       "14    26798\n",
       "12    24502\n",
       "22    22610\n",
       "2     21098\n",
       "18    19713\n",
       "20    13374\n",
       "16     7978\n",
       "7      7065\n",
       "6      2486\n",
       "15       64\n",
       "Name: count, dtype: int64"
      ]
     },
     "execution_count": 100,
     "metadata": {},
     "output_type": "execute_result"
    }
   ],
   "source": [
    "# Encoded value count\n",
    "df['town_code'].value_counts()"
   ]
  },
  {
   "cell_type": "markdown",
   "id": "24ade3f9-6a8d-41c8-a715-79be0b71e2e5",
   "metadata": {},
   "source": [
    "#### Dividing the columns"
   ]
  },
  {
   "cell_type": "code",
   "execution_count": 101,
   "id": "99caecb8-baf2-427c-a756-3549fd83dcd0",
   "metadata": {},
   "outputs": [
    {
     "data": {
      "text/plain": [
       "0    10 TO 12\n",
       "1    04 TO 06\n",
       "2    10 TO 12\n",
       "3    07 TO 09\n",
       "4    04 TO 06\n",
       "Name: storey_range, dtype: object"
      ]
     },
     "execution_count": 101,
     "metadata": {},
     "output_type": "execute_result"
    }
   ],
   "source": [
    "# Print header of column\n",
    "df['storey_range'].head()"
   ]
  },
  {
   "cell_type": "code",
   "execution_count": 102,
   "id": "a30b01fd-99af-490a-ac3b-9e1365d37532",
   "metadata": {},
   "outputs": [
    {
     "data": {
      "text/html": [
       "<div>\n",
       "<style scoped>\n",
       "    .dataframe tbody tr th:only-of-type {\n",
       "        vertical-align: middle;\n",
       "    }\n",
       "\n",
       "    .dataframe tbody tr th {\n",
       "        vertical-align: top;\n",
       "    }\n",
       "\n",
       "    .dataframe thead th {\n",
       "        text-align: right;\n",
       "    }\n",
       "</style>\n",
       "<table border=\"1\" class=\"dataframe\">\n",
       "  <thead>\n",
       "    <tr style=\"text-align: right;\">\n",
       "      <th></th>\n",
       "      <th>0</th>\n",
       "      <th>1</th>\n",
       "    </tr>\n",
       "  </thead>\n",
       "  <tbody>\n",
       "    <tr>\n",
       "      <th>0</th>\n",
       "      <td>10</td>\n",
       "      <td>12</td>\n",
       "    </tr>\n",
       "    <tr>\n",
       "      <th>1</th>\n",
       "      <td>04</td>\n",
       "      <td>06</td>\n",
       "    </tr>\n",
       "    <tr>\n",
       "      <th>2</th>\n",
       "      <td>10</td>\n",
       "      <td>12</td>\n",
       "    </tr>\n",
       "    <tr>\n",
       "      <th>3</th>\n",
       "      <td>07</td>\n",
       "      <td>09</td>\n",
       "    </tr>\n",
       "    <tr>\n",
       "      <th>4</th>\n",
       "      <td>04</td>\n",
       "      <td>06</td>\n",
       "    </tr>\n",
       "  </tbody>\n",
       "</table>\n",
       "</div>"
      ],
      "text/plain": [
       "    0   1\n",
       "0  10  12\n",
       "1  04  06\n",
       "2  10  12\n",
       "3  07  09\n",
       "4  04  06"
      ]
     },
     "execution_count": 102,
     "metadata": {},
     "output_type": "execute_result"
    }
   ],
   "source": [
    "# Splitting storey range column\n",
    "storey=df['storey_range'].str.split(' TO ',expand = True)\n",
    "storey.head()"
   ]
  },
  {
   "cell_type": "code",
   "execution_count": 103,
   "id": "f469e39e-46ca-4556-8453-157920f0d77c",
   "metadata": {},
   "outputs": [],
   "source": [
    "# Creating the storey minimum values as column\n",
    "df.insert(loc = 6,\n",
    "          column = 'storey_min',\n",
    "          value = storey[0])"
   ]
  },
  {
   "cell_type": "code",
   "execution_count": 104,
   "id": "b1254c6c-e2e6-49c1-87bb-3470f8337a10",
   "metadata": {},
   "outputs": [],
   "source": [
    "# Creating the storey maximum values as column\n",
    "df.insert(loc = 7,\n",
    "          column = 'storey_max',\n",
    "          value = storey[1])"
   ]
  },
  {
   "cell_type": "code",
   "execution_count": 105,
   "id": "e2fc9db9-12bf-45a8-8faa-362a7b87ec1d",
   "metadata": {},
   "outputs": [
    {
     "data": {
      "text/html": [
       "<div>\n",
       "<style scoped>\n",
       "    .dataframe tbody tr th:only-of-type {\n",
       "        vertical-align: middle;\n",
       "    }\n",
       "\n",
       "    .dataframe tbody tr th {\n",
       "        vertical-align: top;\n",
       "    }\n",
       "\n",
       "    .dataframe thead th {\n",
       "        text-align: right;\n",
       "    }\n",
       "</style>\n",
       "<table border=\"1\" class=\"dataframe\">\n",
       "  <thead>\n",
       "    <tr style=\"text-align: right;\">\n",
       "      <th></th>\n",
       "      <th>0</th>\n",
       "      <th>1</th>\n",
       "    </tr>\n",
       "  </thead>\n",
       "  <tbody>\n",
       "    <tr>\n",
       "      <th>0</th>\n",
       "      <td>1990</td>\n",
       "      <td>01</td>\n",
       "    </tr>\n",
       "    <tr>\n",
       "      <th>1</th>\n",
       "      <td>1990</td>\n",
       "      <td>01</td>\n",
       "    </tr>\n",
       "    <tr>\n",
       "      <th>2</th>\n",
       "      <td>1990</td>\n",
       "      <td>01</td>\n",
       "    </tr>\n",
       "    <tr>\n",
       "      <th>3</th>\n",
       "      <td>1990</td>\n",
       "      <td>01</td>\n",
       "    </tr>\n",
       "    <tr>\n",
       "      <th>4</th>\n",
       "      <td>1990</td>\n",
       "      <td>01</td>\n",
       "    </tr>\n",
       "  </tbody>\n",
       "</table>\n",
       "</div>"
      ],
      "text/plain": [
       "      0   1\n",
       "0  1990  01\n",
       "1  1990  01\n",
       "2  1990  01\n",
       "3  1990  01\n",
       "4  1990  01"
      ]
     },
     "execution_count": 105,
     "metadata": {},
     "output_type": "execute_result"
    }
   ],
   "source": [
    "# Splitting month column\n",
    "month=df['month'].str.split('-',expand = True)\n",
    "month.head()"
   ]
  },
  {
   "cell_type": "code",
   "execution_count": 106,
   "id": "c787826d-d9fa-4e45-84e6-672a5bb4645f",
   "metadata": {},
   "outputs": [],
   "source": [
    "# Creating the year values as column\n",
    "df.insert(loc = 1,\n",
    "          column = 'selling_year',\n",
    "          value = month[0])"
   ]
  },
  {
   "cell_type": "code",
   "execution_count": 107,
   "id": "bba80d6a-7118-40aa-87dc-298fb92e9042",
   "metadata": {},
   "outputs": [],
   "source": [
    "# Creating the storey maximum values as column\n",
    "df.insert(loc = 2,\n",
    "          column = 'selling_month',\n",
    "          value = month[1])"
   ]
  },
  {
   "cell_type": "code",
   "execution_count": 108,
   "id": "cc374447-3c8a-41e9-bdb8-d0c0ceb0209a",
   "metadata": {},
   "outputs": [
    {
     "data": {
      "text/html": [
       "<div>\n",
       "<style scoped>\n",
       "    .dataframe tbody tr th:only-of-type {\n",
       "        vertical-align: middle;\n",
       "    }\n",
       "\n",
       "    .dataframe tbody tr th {\n",
       "        vertical-align: top;\n",
       "    }\n",
       "\n",
       "    .dataframe thead th {\n",
       "        text-align: right;\n",
       "    }\n",
       "</style>\n",
       "<table border=\"1\" class=\"dataframe\">\n",
       "  <thead>\n",
       "    <tr style=\"text-align: right;\">\n",
       "      <th></th>\n",
       "      <th>month</th>\n",
       "      <th>selling_year</th>\n",
       "      <th>selling_month</th>\n",
       "      <th>town</th>\n",
       "      <th>town_code</th>\n",
       "      <th>flat_type</th>\n",
       "      <th>block</th>\n",
       "      <th>street_name</th>\n",
       "      <th>storey_min</th>\n",
       "      <th>storey_max</th>\n",
       "      <th>storey_range</th>\n",
       "      <th>floor_area_sqm</th>\n",
       "      <th>flat_model</th>\n",
       "      <th>flat_modelcode</th>\n",
       "      <th>lease_commence_date</th>\n",
       "      <th>resale_price</th>\n",
       "    </tr>\n",
       "  </thead>\n",
       "  <tbody>\n",
       "    <tr>\n",
       "      <th>0</th>\n",
       "      <td>1990-01</td>\n",
       "      <td>1990</td>\n",
       "      <td>01</td>\n",
       "      <td>ANG MO KIO</td>\n",
       "      <td>0</td>\n",
       "      <td>1</td>\n",
       "      <td>309</td>\n",
       "      <td>ANG MO KIO AVE 1</td>\n",
       "      <td>10</td>\n",
       "      <td>12</td>\n",
       "      <td>10 TO 12</td>\n",
       "      <td>31.0</td>\n",
       "      <td>improved</td>\n",
       "      <td>5</td>\n",
       "      <td>1977</td>\n",
       "      <td>9000.0</td>\n",
       "    </tr>\n",
       "    <tr>\n",
       "      <th>1</th>\n",
       "      <td>1990-01</td>\n",
       "      <td>1990</td>\n",
       "      <td>01</td>\n",
       "      <td>ANG MO KIO</td>\n",
       "      <td>0</td>\n",
       "      <td>1</td>\n",
       "      <td>309</td>\n",
       "      <td>ANG MO KIO AVE 1</td>\n",
       "      <td>04</td>\n",
       "      <td>06</td>\n",
       "      <td>04 TO 06</td>\n",
       "      <td>31.0</td>\n",
       "      <td>improved</td>\n",
       "      <td>5</td>\n",
       "      <td>1977</td>\n",
       "      <td>6000.0</td>\n",
       "    </tr>\n",
       "    <tr>\n",
       "      <th>2</th>\n",
       "      <td>1990-01</td>\n",
       "      <td>1990</td>\n",
       "      <td>01</td>\n",
       "      <td>ANG MO KIO</td>\n",
       "      <td>0</td>\n",
       "      <td>1</td>\n",
       "      <td>309</td>\n",
       "      <td>ANG MO KIO AVE 1</td>\n",
       "      <td>10</td>\n",
       "      <td>12</td>\n",
       "      <td>10 TO 12</td>\n",
       "      <td>31.0</td>\n",
       "      <td>improved</td>\n",
       "      <td>5</td>\n",
       "      <td>1977</td>\n",
       "      <td>8000.0</td>\n",
       "    </tr>\n",
       "    <tr>\n",
       "      <th>3</th>\n",
       "      <td>1990-01</td>\n",
       "      <td>1990</td>\n",
       "      <td>01</td>\n",
       "      <td>ANG MO KIO</td>\n",
       "      <td>0</td>\n",
       "      <td>1</td>\n",
       "      <td>309</td>\n",
       "      <td>ANG MO KIO AVE 1</td>\n",
       "      <td>07</td>\n",
       "      <td>09</td>\n",
       "      <td>07 TO 09</td>\n",
       "      <td>31.0</td>\n",
       "      <td>improved</td>\n",
       "      <td>5</td>\n",
       "      <td>1977</td>\n",
       "      <td>6000.0</td>\n",
       "    </tr>\n",
       "    <tr>\n",
       "      <th>4</th>\n",
       "      <td>1990-01</td>\n",
       "      <td>1990</td>\n",
       "      <td>01</td>\n",
       "      <td>ANG MO KIO</td>\n",
       "      <td>0</td>\n",
       "      <td>3</td>\n",
       "      <td>216</td>\n",
       "      <td>ANG MO KIO AVE 1</td>\n",
       "      <td>04</td>\n",
       "      <td>06</td>\n",
       "      <td>04 TO 06</td>\n",
       "      <td>73.0</td>\n",
       "      <td>new generation</td>\n",
       "      <td>12</td>\n",
       "      <td>1976</td>\n",
       "      <td>47200.0</td>\n",
       "    </tr>\n",
       "  </tbody>\n",
       "</table>\n",
       "</div>"
      ],
      "text/plain": [
       "     month selling_year selling_month        town  town_code  flat_type block  \\\n",
       "0  1990-01         1990            01  ANG MO KIO          0          1   309   \n",
       "1  1990-01         1990            01  ANG MO KIO          0          1   309   \n",
       "2  1990-01         1990            01  ANG MO KIO          0          1   309   \n",
       "3  1990-01         1990            01  ANG MO KIO          0          1   309   \n",
       "4  1990-01         1990            01  ANG MO KIO          0          3   216   \n",
       "\n",
       "        street_name storey_min storey_max storey_range  floor_area_sqm  \\\n",
       "0  ANG MO KIO AVE 1         10         12     10 TO 12            31.0   \n",
       "1  ANG MO KIO AVE 1         04         06     04 TO 06            31.0   \n",
       "2  ANG MO KIO AVE 1         10         12     10 TO 12            31.0   \n",
       "3  ANG MO KIO AVE 1         07         09     07 TO 09            31.0   \n",
       "4  ANG MO KIO AVE 1         04         06     04 TO 06            73.0   \n",
       "\n",
       "       flat_model  flat_modelcode  lease_commence_date  resale_price  \n",
       "0        improved               5                 1977        9000.0  \n",
       "1        improved               5                 1977        6000.0  \n",
       "2        improved               5                 1977        8000.0  \n",
       "3        improved               5                 1977        6000.0  \n",
       "4  new generation              12                 1976       47200.0  "
      ]
     },
     "execution_count": 108,
     "metadata": {},
     "output_type": "execute_result"
    }
   ],
   "source": [
    "df.head()"
   ]
  },
  {
   "cell_type": "markdown",
   "id": "f4879f6b-1740-42fc-8107-faef9c435d1d",
   "metadata": {},
   "source": [
    "#### Dealing with datatypes"
   ]
  },
  {
   "cell_type": "code",
   "execution_count": 109,
   "id": "98052711-5ce0-42f5-9316-4f86432e69cb",
   "metadata": {},
   "outputs": [
    {
     "data": {
      "text/plain": [
       "month                   object\n",
       "selling_year            object\n",
       "selling_month           object\n",
       "town                    object\n",
       "town_code                int32\n",
       "flat_type                int64\n",
       "block                   object\n",
       "street_name             object\n",
       "storey_min              object\n",
       "storey_max              object\n",
       "storey_range            object\n",
       "floor_area_sqm         float64\n",
       "flat_model              object\n",
       "flat_modelcode           int32\n",
       "lease_commence_date      int64\n",
       "resale_price           float64\n",
       "dtype: object"
      ]
     },
     "execution_count": 109,
     "metadata": {},
     "output_type": "execute_result"
    }
   ],
   "source": [
    "# Datatyppe of the columns\n",
    "df.dtypes"
   ]
  },
  {
   "cell_type": "code",
   "execution_count": 110,
   "id": "6f4dc8fd-3280-4dff-bd2d-077e8e1efd61",
   "metadata": {},
   "outputs": [],
   "source": [
    "# Changing the datatype of numeric columns\n",
    "df[['selling_year','selling_month','storey_min','storey_max']] = df[['selling_year','selling_month','storey_min','storey_max']].astype('int')"
   ]
  },
  {
   "cell_type": "code",
   "execution_count": 111,
   "id": "a48bcfd9-11d6-40e0-aa84-c61b91f0e211",
   "metadata": {},
   "outputs": [
    {
     "data": {
      "text/plain": [
       "month                   object\n",
       "selling_year             int32\n",
       "selling_month            int32\n",
       "town                    object\n",
       "town_code                int32\n",
       "flat_type                int64\n",
       "block                   object\n",
       "street_name             object\n",
       "storey_min               int32\n",
       "storey_max               int32\n",
       "storey_range            object\n",
       "floor_area_sqm         float64\n",
       "flat_model              object\n",
       "flat_modelcode           int32\n",
       "lease_commence_date      int64\n",
       "resale_price           float64\n",
       "dtype: object"
      ]
     },
     "execution_count": 111,
     "metadata": {},
     "output_type": "execute_result"
    }
   ],
   "source": [
    "df.dtypes"
   ]
  },
  {
   "cell_type": "code",
   "execution_count": 112,
   "id": "d7b61977-3b93-4750-9acf-874343a565fb",
   "metadata": {},
   "outputs": [
    {
     "data": {
      "text/plain": [
       "<Axes: >"
      ]
     },
     "execution_count": 112,
     "metadata": {},
     "output_type": "execute_result"
    },
    {
     "data": {
      "image/png": "[encoded data removed]",
      "text/plain": [
       "<Figure size 640x480 with 2 Axes>"
      ]
     },
     "metadata": {},
     "output_type": "display_data"
    }
   ],
   "source": [
    "# Correlation for the feature\n",
    "corr_df = df[['selling_year','selling_month','town_code','storey_min','storey_max','floor_area_sqm','flat_modelcode','lease_commence_date','resale_price']].dropna().corr()\n",
    "sns.heatmap(corr_df, annot = True)"
   ]
  },
  {
   "cell_type": "markdown",
   "id": "091d638b-aef7-434f-afbf-e9ca20cdd957",
   "metadata": {},
   "source": [
    "### Training the model"
   ]
  },
  {
   "cell_type": "code",
   "execution_count": 113,
   "id": "03e325b1-da1c-4398-a83c-662000916b7c",
   "metadata": {},
   "outputs": [],
   "source": [
    "# Assigning the data\n",
    "X = df[['selling_year','selling_month','town_code','storey_min','storey_max','floor_area_sqm','flat_modelcode','lease_commence_date']]\n",
    "y = df['resale_price']"
   ]
  },
  {
   "cell_type": "code",
   "execution_count": 114,
   "id": "e6b00d2e-190e-47a0-b2ee-3040eff3e782",
   "metadata": {},
   "outputs": [],
   "source": [
    "# Splitting the data\n",
    "# Importing the split\n",
    "from sklearn.model_selection import train_test_split\n",
    "\n",
    "# Objecting the split data\n",
    "X_train, X_test, y_train, y_test = train_test_split(X, y, test_size = 0.33, random_state = 42)"
   ]
  },
  {
   "cell_type": "markdown",
   "id": "f3376a84-7a92-4708-98dd-a4d25d8ed1b9",
   "metadata": {},
   "source": [
    "#### Linear Regression"
   ]
  },
  {
   "cell_type": "code",
   "execution_count": 115,
   "id": "dd2ed1ae-d666-44c4-a5ae-0e681baf7938",
   "metadata": {},
   "outputs": [
    {
     "data": {
      "text/html": [
       "<style>#sk-container-id-4 {color: black;}#sk-container-id-4 pre{padding: 0;}#sk-container-id-4 div.sk-toggleable {background-color: white;}#sk-container-id-4 label.sk-toggleable__label {cursor: pointer;display: block;width: 100%;margin-bottom: 0;padding: 0.3em;box-sizing: border-box;text-align: center;}#sk-container-id-4 label.sk-toggleable__label-arrow:before {content: \"▸\";float: left;margin-right: 0.25em;color: #696969;}#sk-container-id-4 label.sk-toggleable__label-arrow:hover:before {color: black;}#sk-container-id-4 div.sk-estimator:hover label.sk-toggleable__label-arrow:before {color: black;}#sk-container-id-4 div.sk-toggleable__content {max-height: 0;max-width: 0;overflow: hidden;text-align: left;background-color: #f0f8ff;}#sk-container-id-4 div.sk-toggleable__content pre {margin: 0.2em;color: black;border-radius: 0.25em;background-color: #f0f8ff;}#sk-container-id-4 input.sk-toggleable__control:checked~div.sk-toggleable__content {max-height: 200px;max-width: 100%;overflow: auto;}#sk-container-id-4 input.sk-toggleable__control:checked~label.sk-toggleable__label-arrow:before {content: \"▾\";}#sk-container-id-4 div.sk-estimator input.sk-toggleable__control:checked~label.sk-toggleable__label {background-color: #d4ebff;}#sk-container-id-4 div.sk-label input.sk-toggleable__control:checked~label.sk-toggleable__label {background-color: #d4ebff;}#sk-container-id-4 input.sk-hidden--visually {border: 0;clip: rect(1px 1px 1px 1px);clip: rect(1px, 1px, 1px, 1px);height: 1px;margin: -1px;overflow: hidden;padding: 0;position: absolute;width: 1px;}#sk-container-id-4 div.sk-estimator {font-family: monospace;background-color: #f0f8ff;border: 1px dotted black;border-radius: 0.25em;box-sizing: border-box;margin-bottom: 0.5em;}#sk-container-id-4 div.sk-estimator:hover {background-color: #d4ebff;}#sk-container-id-4 div.sk-parallel-item::after {content: \"\";width: 100%;border-bottom: 1px solid gray;flex-grow: 1;}#sk-container-id-4 div.sk-label:hover label.sk-toggleable__label {background-color: #d4ebff;}#sk-container-id-4 div.sk-serial::before {content: \"\";position: absolute;border-left: 1px solid gray;box-sizing: border-box;top: 0;bottom: 0;left: 50%;z-index: 0;}#sk-container-id-4 div.sk-serial {display: flex;flex-direction: column;align-items: center;background-color: white;padding-right: 0.2em;padding-left: 0.2em;position: relative;}#sk-container-id-4 div.sk-item {position: relative;z-index: 1;}#sk-container-id-4 div.sk-parallel {display: flex;align-items: stretch;justify-content: center;background-color: white;position: relative;}#sk-container-id-4 div.sk-item::before, #sk-container-id-4 div.sk-parallel-item::before {content: \"\";position: absolute;border-left: 1px solid gray;box-sizing: border-box;top: 0;bottom: 0;left: 50%;z-index: -1;}#sk-container-id-4 div.sk-parallel-item {display: flex;flex-direction: column;z-index: 1;position: relative;background-color: white;}#sk-container-id-4 div.sk-parallel-item:first-child::after {align-self: flex-end;width: 50%;}#sk-container-id-4 div.sk-parallel-item:last-child::after {align-self: flex-start;width: 50%;}#sk-container-id-4 div.sk-parallel-item:only-child::after {width: 0;}#sk-container-id-4 div.sk-dashed-wrapped {border: 1px dashed gray;margin: 0 0.4em 0.5em 0.4em;box-sizing: border-box;padding-bottom: 0.4em;background-color: white;}#sk-container-id-4 div.sk-label label {font-family: monospace;font-weight: bold;display: inline-block;line-height: 1.2em;}#sk-container-id-4 div.sk-label-container {text-align: center;}#sk-container-id-4 div.sk-container {/* jupyter's `normalize.less` sets `[hidden] { display: none; }` but bootstrap.min.css set `[hidden] { display: none !important; }` so we also need the `!important` here to be able to override the default hidden behavior on the sphinx rendered scikit-learn.org. See: https://github.com/scikit-learn/scikit-learn/issues/21755 */display: inline-block !important;position: relative;}#sk-container-id-4 div.sk-text-repr-fallback {display: none;}</style><div id=\"sk-container-id-4\" class=\"sk-top-container\"><div class=\"sk-text-repr-fallback\"><pre>LinearRegression()</pre><b>In a Jupyter environment, please rerun this cell to show the HTML representation or trust the notebook. <br />On GitHub, the HTML representation is unable to render, please try loading this page with nbviewer.org.</b></div><div class=\"sk-container\" hidden><div class=\"sk-item\"><div class=\"sk-estimator sk-toggleable\"><input class=\"sk-toggleable__control sk-hidden--visually\" id=\"sk-estimator-id-4\" type=\"checkbox\" checked><label for=\"sk-estimator-id-4\" class=\"sk-toggleable__label sk-toggleable__label-arrow\">LinearRegression</label><div class=\"sk-toggleable__content\"><pre>LinearRegression()</pre></div></div></div></div></div>"
      ],
      "text/plain": [
       "LinearRegression()"
      ]
     },
     "execution_count": 115,
     "metadata": {},
     "output_type": "execute_result"
    }
   ],
   "source": [
    "# Create a regressor\n",
    "from sklearn.linear_model import LinearRegression\n",
    "\n",
    "# Create a regressor object\n",
    "lin_reg = LinearRegression()\n",
    "\n",
    "# fit the model with X-train and y_train data\n",
    "lin_reg.fit(X_train,y_train)"
   ]
  },
  {
   "cell_type": "code",
   "execution_count": 116,
   "id": "6bc5ea85-6693-4f34-8729-81923417c138",
   "metadata": {},
   "outputs": [
    {
     "name": "stdout",
     "output_type": "stream",
     "text": [
      "75.51790736097426 %\n"
     ]
    }
   ],
   "source": [
    "# Accuracy score of the model\n",
    "score = lin_reg.score(X_test,y_test)\n",
    "print(score * 100,\"%\")"
   ]
  },
  {
   "cell_type": "markdown",
   "id": "875a980b-e171-4144-88ba-52b2f93fa68a",
   "metadata": {},
   "source": [
    "#### Decision Tree Regressor"
   ]
  },
  {
   "cell_type": "code",
   "execution_count": 117,
   "id": "73ee756d-d823-45d2-8c2b-3c6e5936c846",
   "metadata": {},
   "outputs": [
    {
     "data": {
      "text/html": [
       "<style>#sk-container-id-5 {color: black;}#sk-container-id-5 pre{padding: 0;}#sk-container-id-5 div.sk-toggleable {background-color: white;}#sk-container-id-5 label.sk-toggleable__label {cursor: pointer;display: block;width: 100%;margin-bottom: 0;padding: 0.3em;box-sizing: border-box;text-align: center;}#sk-container-id-5 label.sk-toggleable__label-arrow:before {content: \"▸\";float: left;margin-right: 0.25em;color: #696969;}#sk-container-id-5 label.sk-toggleable__label-arrow:hover:before {color: black;}#sk-container-id-5 div.sk-estimator:hover label.sk-toggleable__label-arrow:before {color: black;}#sk-container-id-5 div.sk-toggleable__content {max-height: 0;max-width: 0;overflow: hidden;text-align: left;background-color: #f0f8ff;}#sk-container-id-5 div.sk-toggleable__content pre {margin: 0.2em;color: black;border-radius: 0.25em;background-color: #f0f8ff;}#sk-container-id-5 input.sk-toggleable__control:checked~div.sk-toggleable__content {max-height: 200px;max-width: 100%;overflow: auto;}#sk-container-id-5 input.sk-toggleable__control:checked~label.sk-toggleable__label-arrow:before {content: \"▾\";}#sk-container-id-5 div.sk-estimator input.sk-toggleable__control:checked~label.sk-toggleable__label {background-color: #d4ebff;}#sk-container-id-5 div.sk-label input.sk-toggleable__control:checked~label.sk-toggleable__label {background-color: #d4ebff;}#sk-container-id-5 input.sk-hidden--visually {border: 0;clip: rect(1px 1px 1px 1px);clip: rect(1px, 1px, 1px, 1px);height: 1px;margin: -1px;overflow: hidden;padding: 0;position: absolute;width: 1px;}#sk-container-id-5 div.sk-estimator {font-family: monospace;background-color: #f0f8ff;border: 1px dotted black;border-radius: 0.25em;box-sizing: border-box;margin-bottom: 0.5em;}#sk-container-id-5 div.sk-estimator:hover {background-color: #d4ebff;}#sk-container-id-5 div.sk-parallel-item::after {content: \"\";width: 100%;border-bottom: 1px solid gray;flex-grow: 1;}#sk-container-id-5 div.sk-label:hover label.sk-toggleable__label {background-color: #d4ebff;}#sk-container-id-5 div.sk-serial::before {content: \"\";position: absolute;border-left: 1px solid gray;box-sizing: border-box;top: 0;bottom: 0;left: 50%;z-index: 0;}#sk-container-id-5 div.sk-serial {display: flex;flex-direction: column;align-items: center;background-color: white;padding-right: 0.2em;padding-left: 0.2em;position: relative;}#sk-container-id-5 div.sk-item {position: relative;z-index: 1;}#sk-container-id-5 div.sk-parallel {display: flex;align-items: stretch;justify-content: center;background-color: white;position: relative;}#sk-container-id-5 div.sk-item::before, #sk-container-id-5 div.sk-parallel-item::before {content: \"\";position: absolute;border-left: 1px solid gray;box-sizing: border-box;top: 0;bottom: 0;left: 50%;z-index: -1;}#sk-container-id-5 div.sk-parallel-item {display: flex;flex-direction: column;z-index: 1;position: relative;background-color: white;}#sk-container-id-5 div.sk-parallel-item:first-child::after {align-self: flex-end;width: 50%;}#sk-container-id-5 div.sk-parallel-item:last-child::after {align-self: flex-start;width: 50%;}#sk-container-id-5 div.sk-parallel-item:only-child::after {width: 0;}#sk-container-id-5 div.sk-dashed-wrapped {border: 1px dashed gray;margin: 0 0.4em 0.5em 0.4em;box-sizing: border-box;padding-bottom: 0.4em;background-color: white;}#sk-container-id-5 div.sk-label label {font-family: monospace;font-weight: bold;display: inline-block;line-height: 1.2em;}#sk-container-id-5 div.sk-label-container {text-align: center;}#sk-container-id-5 div.sk-container {/* jupyter's `normalize.less` sets `[hidden] { display: none; }` but bootstrap.min.css set `[hidden] { display: none !important; }` so we also need the `!important` here to be able to override the default hidden behavior on the sphinx rendered scikit-learn.org. See: https://github.com/scikit-learn/scikit-learn/issues/21755 */display: inline-block !important;position: relative;}#sk-container-id-5 div.sk-text-repr-fallback {display: none;}</style><div id=\"sk-container-id-5\" class=\"sk-top-container\"><div class=\"sk-text-repr-fallback\"><pre>DecisionTreeRegressor(random_state=0)</pre><b>In a Jupyter environment, please rerun this cell to show the HTML representation or trust the notebook. <br />On GitHub, the HTML representation is unable to render, please try loading this page with nbviewer.org.</b></div><div class=\"sk-container\" hidden><div class=\"sk-item\"><div class=\"sk-estimator sk-toggleable\"><input class=\"sk-toggleable__control sk-hidden--visually\" id=\"sk-estimator-id-5\" type=\"checkbox\" checked><label for=\"sk-estimator-id-5\" class=\"sk-toggleable__label sk-toggleable__label-arrow\">DecisionTreeRegressor</label><div class=\"sk-toggleable__content\"><pre>DecisionTreeRegressor(random_state=0)</pre></div></div></div></div></div>"
      ],
      "text/plain": [
       "DecisionTreeRegressor(random_state=0)"
      ]
     },
     "execution_count": 117,
     "metadata": {},
     "output_type": "execute_result"
    }
   ],
   "source": [
    "# import the regressor \n",
    "from sklearn.tree import DecisionTreeRegressor  \n",
    "  \n",
    "# create a regressor object \n",
    "Dt_reg = DecisionTreeRegressor(random_state = 0)  \n",
    "  \n",
    "# fit the model with X-train and y_train data \n",
    "Dt_reg.fit(X_train, y_train)"
   ]
  },
  {
   "cell_type": "code",
   "execution_count": 118,
   "id": "5a9ed45e-0054-4336-b533-7ade60f25dc5",
   "metadata": {},
   "outputs": [
    {
     "name": "stdout",
     "output_type": "stream",
     "text": [
      "95.9855886564812 %\n"
     ]
    }
   ],
   "source": [
    "# Accuracy of the model\n",
    "score = Dt_reg.score(X_test,y_test)\n",
    "print(score * 100,\"%\")"
   ]
  },
  {
   "cell_type": "markdown",
   "id": "a2e20a3e-3edc-40f5-9555-5988674b8b5d",
   "metadata": {},
   "source": [
    "#### Random Forest Regressor"
   ]
  },
  {
   "cell_type": "code",
   "execution_count": 119,
   "id": "46382f26-cff8-463a-a83e-07be100f91d5",
   "metadata": {},
   "outputs": [
    {
     "data": {
      "text/html": [
       "<style>#sk-container-id-6 {color: black;}#sk-container-id-6 pre{padding: 0;}#sk-container-id-6 div.sk-toggleable {background-color: white;}#sk-container-id-6 label.sk-toggleable__label {cursor: pointer;display: block;width: 100%;margin-bottom: 0;padding: 0.3em;box-sizing: border-box;text-align: center;}#sk-container-id-6 label.sk-toggleable__label-arrow:before {content: \"▸\";float: left;margin-right: 0.25em;color: #696969;}#sk-container-id-6 label.sk-toggleable__label-arrow:hover:before {color: black;}#sk-container-id-6 div.sk-estimator:hover label.sk-toggleable__label-arrow:before {color: black;}#sk-container-id-6 div.sk-toggleable__content {max-height: 0;max-width: 0;overflow: hidden;text-align: left;background-color: #f0f8ff;}#sk-container-id-6 div.sk-toggleable__content pre {margin: 0.2em;color: black;border-radius: 0.25em;background-color: #f0f8ff;}#sk-container-id-6 input.sk-toggleable__control:checked~div.sk-toggleable__content {max-height: 200px;max-width: 100%;overflow: auto;}#sk-container-id-6 input.sk-toggleable__control:checked~label.sk-toggleable__label-arrow:before {content: \"▾\";}#sk-container-id-6 div.sk-estimator input.sk-toggleable__control:checked~label.sk-toggleable__label {background-color: #d4ebff;}#sk-container-id-6 div.sk-label input.sk-toggleable__control:checked~label.sk-toggleable__label {background-color: #d4ebff;}#sk-container-id-6 input.sk-hidden--visually {border: 0;clip: rect(1px 1px 1px 1px);clip: rect(1px, 1px, 1px, 1px);height: 1px;margin: -1px;overflow: hidden;padding: 0;position: absolute;width: 1px;}#sk-container-id-6 div.sk-estimator {font-family: monospace;background-color: #f0f8ff;border: 1px dotted black;border-radius: 0.25em;box-sizing: border-box;margin-bottom: 0.5em;}#sk-container-id-6 div.sk-estimator:hover {background-color: #d4ebff;}#sk-container-id-6 div.sk-parallel-item::after {content: \"\";width: 100%;border-bottom: 1px solid gray;flex-grow: 1;}#sk-container-id-6 div.sk-label:hover label.sk-toggleable__label {background-color: #d4ebff;}#sk-container-id-6 div.sk-serial::before {content: \"\";position: absolute;border-left: 1px solid gray;box-sizing: border-box;top: 0;bottom: 0;left: 50%;z-index: 0;}#sk-container-id-6 div.sk-serial {display: flex;flex-direction: column;align-items: center;background-color: white;padding-right: 0.2em;padding-left: 0.2em;position: relative;}#sk-container-id-6 div.sk-item {position: relative;z-index: 1;}#sk-container-id-6 div.sk-parallel {display: flex;align-items: stretch;justify-content: center;background-color: white;position: relative;}#sk-container-id-6 div.sk-item::before, #sk-container-id-6 div.sk-parallel-item::before {content: \"\";position: absolute;border-left: 1px solid gray;box-sizing: border-box;top: 0;bottom: 0;left: 50%;z-index: -1;}#sk-container-id-6 div.sk-parallel-item {display: flex;flex-direction: column;z-index: 1;position: relative;background-color: white;}#sk-container-id-6 div.sk-parallel-item:first-child::after {align-self: flex-end;width: 50%;}#sk-container-id-6 div.sk-parallel-item:last-child::after {align-self: flex-start;width: 50%;}#sk-container-id-6 div.sk-parallel-item:only-child::after {width: 0;}#sk-container-id-6 div.sk-dashed-wrapped {border: 1px dashed gray;margin: 0 0.4em 0.5em 0.4em;box-sizing: border-box;padding-bottom: 0.4em;background-color: white;}#sk-container-id-6 div.sk-label label {font-family: monospace;font-weight: bold;display: inline-block;line-height: 1.2em;}#sk-container-id-6 div.sk-label-container {text-align: center;}#sk-container-id-6 div.sk-container {/* jupyter's `normalize.less` sets `[hidden] { display: none; }` but bootstrap.min.css set `[hidden] { display: none !important; }` so we also need the `!important` here to be able to override the default hidden behavior on the sphinx rendered scikit-learn.org. See: https://github.com/scikit-learn/scikit-learn/issues/21755 */display: inline-block !important;position: relative;}#sk-container-id-6 div.sk-text-repr-fallback {display: none;}</style><div id=\"sk-container-id-6\" class=\"sk-top-container\"><div class=\"sk-text-repr-fallback\"><pre>RandomForestRegressor(random_state=0)</pre><b>In a Jupyter environment, please rerun this cell to show the HTML representation or trust the notebook. <br />On GitHub, the HTML representation is unable to render, please try loading this page with nbviewer.org.</b></div><div class=\"sk-container\" hidden><div class=\"sk-item\"><div class=\"sk-estimator sk-toggleable\"><input class=\"sk-toggleable__control sk-hidden--visually\" id=\"sk-estimator-id-6\" type=\"checkbox\" checked><label for=\"sk-estimator-id-6\" class=\"sk-toggleable__label sk-toggleable__label-arrow\">RandomForestRegressor</label><div class=\"sk-toggleable__content\"><pre>RandomForestRegressor(random_state=0)</pre></div></div></div></div></div>"
      ],
      "text/plain": [
       "RandomForestRegressor(random_state=0)"
      ]
     },
     "execution_count": 119,
     "metadata": {},
     "output_type": "execute_result"
    }
   ],
   "source": [
    "# Create a regressor\n",
    "from sklearn.ensemble import RandomForestRegressor\n",
    "\n",
    "# Create a regressor object\n",
    "rf_reg = RandomForestRegressor(n_estimators=100, random_state=0)\n",
    "\n",
    "# fit the model with X-train and y_train data\n",
    "rf_reg.fit(X_train, y_train)"
   ]
  },
  {
   "cell_type": "code",
   "execution_count": 120,
   "id": "f53f5fa0-5535-4159-9faa-9817e54445e6",
   "metadata": {},
   "outputs": [
    {
     "name": "stdout",
     "output_type": "stream",
     "text": [
      "97.65220186343254 %\n"
     ]
    }
   ],
   "source": [
    "# Accuracy of the model\n",
    "score = rf_reg.score(X_test,y_test)\n",
    "print(score * 100,\"%\")"
   ]
  },
  {
   "cell_type": "markdown",
   "id": "107dc253-5ddd-48fb-92ef-26259bbcdffe",
   "metadata": {},
   "source": [
    "Pickling the random forest trained knowledge to build streamlit ML model web page"
   ]
  },
  {
   "cell_type": "code",
   "execution_count": 121,
   "id": "56097fce-3254-4c5b-8e25-fc9f2301ee8c",
   "metadata": {},
   "outputs": [],
   "source": [
    "# Pickling the trained model\n",
    "# Importing the pickle package\n",
    "import pickle\n",
    "\n",
    "with open(\"resale_rfr_pkl\",\"wb\") as files:\n",
    "  pickle.dump(rf_reg, files)"
   ]
  }
 ],
 "metadata": {
  "kernelspec": {
   "display_name": "Python 3 (ipykernel)",
   "language": "python",
   "name": "python3"
  },
  "language_info": {
   "codemirror_mode": {
    "name": "ipython",
    "version": 3
   },
   "file_extension": ".py",
   "mimetype": "text/x-python",
   "name": "python",
   "nbconvert_exporter": "python",
   "pygments_lexer": "ipython3",
   "version": "3.11.5"
  }
 },
 "nbformat": 4,
 "nbformat_minor": 5
}
